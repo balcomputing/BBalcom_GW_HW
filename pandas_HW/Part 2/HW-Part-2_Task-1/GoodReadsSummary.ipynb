{
 "cells": [
  {
   "cell_type": "markdown",
   "metadata": {},
   "source": [
    "# Good Reads Summary\n",
    "\n",
    "#### The objective of this assignment is for you to explain what is happening in each cell in clear, understandable language. \n",
    "\n",
    "#### _There is no need to code._ The code is there for you, and it already runs. Your task is only to explain what each line in each cell does.\n",
    "\n",
    "#### The placeholder cells should describe what happens in the cell below it."
   ]
  },
  {
   "cell_type": "markdown",
   "metadata": {},
   "source": [
    "**Example**: The cell below imports `pandas` as a dependency because `pandas` functions will be used throughout the program, such as the Pandas `DataFrame` as well as the `read_csv` function."
   ]
  },
  {
   "cell_type": "code",
   "execution_count": 1,
   "metadata": {
    "collapsed": true
   },
   "outputs": [],
   "source": [
    "import pandas as pd"
   ]
  },
  {
   "cell_type": "markdown",
   "metadata": {},
   "source": [
    "The cell below establishes the path to the csv file the program will be reading. It creates a new variable, `goodreads_df`, and creates a dataframe from the csv file. UTF-8 encoding is done to ensure all unicode text is in a form understood by Python. We then preview the first five rows with the `.head()` function."
   ]
  },
  {
   "cell_type": "code",
   "execution_count": 2,
   "metadata": {
    "collapsed": false
   },
   "outputs": [
    {
     "data": {
      "text/html": [
       "<div>\n",
       "<table border=\"1\" class=\"dataframe\">\n",
       "  <thead>\n",
       "    <tr style=\"text-align: right;\">\n",
       "      <th></th>\n",
       "      <th>ISBN</th>\n",
       "      <th>Publication Year</th>\n",
       "      <th>Original Title</th>\n",
       "      <th>Authors</th>\n",
       "      <th>One Star Reviews</th>\n",
       "      <th>Two Star Reviews</th>\n",
       "      <th>Three Star Reviews</th>\n",
       "      <th>Four Star Reviews</th>\n",
       "      <th>Five Star Reviews</th>\n",
       "    </tr>\n",
       "  </thead>\n",
       "  <tbody>\n",
       "    <tr>\n",
       "      <th>0</th>\n",
       "      <td>439023483</td>\n",
       "      <td>2008.0</td>\n",
       "      <td>The Hunger Games</td>\n",
       "      <td>Suzanne Collins</td>\n",
       "      <td>66715</td>\n",
       "      <td>127936</td>\n",
       "      <td>560092</td>\n",
       "      <td>1481305</td>\n",
       "      <td>2706317</td>\n",
       "    </tr>\n",
       "    <tr>\n",
       "      <th>1</th>\n",
       "      <td>439554934</td>\n",
       "      <td>1997.0</td>\n",
       "      <td>Harry Potter and the Philosopher's Stone</td>\n",
       "      <td>J.K. Rowling, Mary GrandPré</td>\n",
       "      <td>75504</td>\n",
       "      <td>101676</td>\n",
       "      <td>455024</td>\n",
       "      <td>1156318</td>\n",
       "      <td>3011543</td>\n",
       "    </tr>\n",
       "    <tr>\n",
       "      <th>2</th>\n",
       "      <td>316015849</td>\n",
       "      <td>2005.0</td>\n",
       "      <td>Twilight</td>\n",
       "      <td>Stephenie Meyer</td>\n",
       "      <td>456191</td>\n",
       "      <td>436802</td>\n",
       "      <td>793319</td>\n",
       "      <td>875073</td>\n",
       "      <td>1355439</td>\n",
       "    </tr>\n",
       "    <tr>\n",
       "      <th>3</th>\n",
       "      <td>61120081</td>\n",
       "      <td>1960.0</td>\n",
       "      <td>To Kill a Mockingbird</td>\n",
       "      <td>Harper Lee</td>\n",
       "      <td>60427</td>\n",
       "      <td>117415</td>\n",
       "      <td>446835</td>\n",
       "      <td>1001952</td>\n",
       "      <td>1714267</td>\n",
       "    </tr>\n",
       "    <tr>\n",
       "      <th>4</th>\n",
       "      <td>743273567</td>\n",
       "      <td>1925.0</td>\n",
       "      <td>The Great Gatsby</td>\n",
       "      <td>F. Scott Fitzgerald</td>\n",
       "      <td>86236</td>\n",
       "      <td>197621</td>\n",
       "      <td>606158</td>\n",
       "      <td>936012</td>\n",
       "      <td>947718</td>\n",
       "    </tr>\n",
       "  </tbody>\n",
       "</table>\n",
       "</div>"
      ],
      "text/plain": [
       "        ISBN  Publication Year                            Original Title  \\\n",
       "0  439023483            2008.0                          The Hunger Games   \n",
       "1  439554934            1997.0  Harry Potter and the Philosopher's Stone   \n",
       "2  316015849            2005.0                                  Twilight   \n",
       "3   61120081            1960.0                     To Kill a Mockingbird   \n",
       "4  743273567            1925.0                          The Great Gatsby   \n",
       "\n",
       "                       Authors  One Star Reviews  Two Star Reviews  \\\n",
       "0              Suzanne Collins             66715            127936   \n",
       "1  J.K. Rowling, Mary GrandPré             75504            101676   \n",
       "2              Stephenie Meyer            456191            436802   \n",
       "3                   Harper Lee             60427            117415   \n",
       "4          F. Scott Fitzgerald             86236            197621   \n",
       "\n",
       "   Three Star Reviews  Four Star Reviews  Five Star Reviews  \n",
       "0              560092            1481305            2706317  \n",
       "1              455024            1156318            3011543  \n",
       "2              793319             875073            1355439  \n",
       "3              446835            1001952            1714267  \n",
       "4              606158             936012             947718  "
      ]
     },
     "execution_count": 2,
     "metadata": {},
     "output_type": "execute_result"
    }
   ],
   "source": [
    "goodreads_path = \"Resources/books_clean.csv\"\n",
    "\n",
    "goodreads_df = pd.read_csv(goodreads_path, encoding=\"utf-8\")\n",
    "goodreads_df.head()"
   ]
  },
  {
   "cell_type": "markdown",
   "metadata": {},
   "source": [
    "The cell below invokes the `.unique()` function with respect to the Authors column in our csv file to find all of the unique authors, then by using `len()` takes a count of the number of unique authors.\n",
    "\n",
    "We use `.min()` and `.max()` on the Publication Year column to find the earliest and latest years in the data set, respectively.\n",
    "\n",
    "To calculate the total number of reviews, we use the `iloc` function to start at the end of the columns and count back four in order to look at the columns counting reviews by number of stars. By setting the axis to 1, we are taking the sum along the row. We then add up the sum of all of the rows and set this value to `total_reviews`."
   ]
  },
  {
   "cell_type": "code",
   "execution_count": 3,
   "metadata": {
    "collapsed": true
   },
   "outputs": [],
   "source": [
    "author_count = len(goodreads_df[\"Authors\"].unique())\n",
    "\n",
    "earliest_year = goodreads_df[\"Publication Year\"].min()\n",
    "latest_year = goodreads_df[\"Publication Year\"].max()\n",
    "\n",
    "goodreads_df['Total Reviews'] = goodreads_df.iloc[:, 4:].sum(axis=1)\n",
    "total_reviews = sum(goodreads_df['Total Reviews'])"
   ]
  },
  {
   "cell_type": "markdown",
   "metadata": {},
   "source": [
    "The cell below creates a new summary dataframe using a dictionary of values, including the `author_count` list, then prints the created table."
   ]
  },
  {
   "cell_type": "code",
   "execution_count": 4,
   "metadata": {
    "collapsed": false
   },
   "outputs": [
    {
     "data": {
      "text/html": [
       "<div>\n",
       "<table border=\"1\" class=\"dataframe\">\n",
       "  <thead>\n",
       "    <tr style=\"text-align: right;\">\n",
       "      <th></th>\n",
       "      <th>Earliest Year</th>\n",
       "      <th>Latest Year</th>\n",
       "      <th>Total Reviews</th>\n",
       "      <th>Total Unique Authors</th>\n",
       "    </tr>\n",
       "  </thead>\n",
       "  <tbody>\n",
       "    <tr>\n",
       "      <th>0</th>\n",
       "      <td>-1750.0</td>\n",
       "      <td>2017.0</td>\n",
       "      <td>596873216</td>\n",
       "      <td>4664</td>\n",
       "    </tr>\n",
       "  </tbody>\n",
       "</table>\n",
       "</div>"
      ],
      "text/plain": [
       "   Earliest Year  Latest Year  Total Reviews  Total Unique Authors\n",
       "0        -1750.0       2017.0      596873216                  4664"
      ]
     },
     "execution_count": 4,
     "metadata": {},
     "output_type": "execute_result"
    }
   ],
   "source": [
    "summary_table = pd.DataFrame({\"Total Unique Authors\": [author_count],\n",
    "                              \"Earliest Year\": earliest_year,\n",
    "                              \"Latest Year\": latest_year,\n",
    "                              \"Total Reviews\": total_reviews})\n",
    "summary_table"
   ]
  },
  {
   "cell_type": "code",
   "execution_count": null,
   "metadata": {
    "collapsed": true
   },
   "outputs": [],
   "source": []
  }
 ],
 "metadata": {
  "kernelspec": {
   "display_name": "Python 3",
   "language": "python",
   "name": "python3"
  },
  "language_info": {
   "codemirror_mode": {
    "name": "ipython",
    "version": 3
   },
   "file_extension": ".py",
   "mimetype": "text/x-python",
   "name": "python",
   "nbconvert_exporter": "python",
   "pygments_lexer": "ipython3",
   "version": "3.6.0"
  }
 },
 "nbformat": 4,
 "nbformat_minor": 2
}
