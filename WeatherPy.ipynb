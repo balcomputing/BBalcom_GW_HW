{
 "cells": [
  {
   "cell_type": "code",
   "execution_count": null,
   "metadata": {
    "collapsed": true
   },
   "outputs": [],
   "source": [
    "# Dependencies and Setup\n",
    "import matplotlib.pyplot as plt\n",
    "import pandas as pd\n",
    "import numpy as np\n",
    "import requests\n",
    "import time\n",
    "import csv\n",
    "import json\n",
    "\n",
    "# Import API key\n",
    "from config import api_key\n",
    "\n",
    "# Incorporated citipy to determine city based on latitude and longitude\n",
    "from citipy import citipy\n",
    "\n",
    "# Output File (CSV)\n",
    "output_data_file = \"output_data/cities.csv\"\n",
    "\n",
    "# Range of latitudes and longitudes\n",
    "lat_range = (-90, 90)\n",
    "lng_range = (-180, 180)"
   ]
  },
  {
   "cell_type": "code",
   "execution_count": null,
   "metadata": {
    "collapsed": true
   },
   "outputs": [],
   "source": [
    "# List for holding lat_lngs and cities\n",
    "lat_lngs = []\n",
    "cities = []\n",
    "\n",
    "# Create a set of random lat and lng combinations\n",
    "lats = np.random.uniform(low=-90.000, high=90.000, size=1500)\n",
    "lngs = np.random.uniform(low=-180.000, high=180.000, size=1500)\n",
    "lat_lngs = zip(lats, lngs)\n",
    "\n",
    "# Identify nearest city for each lat, lng combination\n",
    "for lat_lng in lat_lngs:\n",
    "    city = citipy.nearest_city(lat_lng[0], lat_lng[1]).city_name\n",
    "    \n",
    "    # If the city is unique, then add it to a our cities list\n",
    "    if city not in cities:\n",
    "        cities.append(city)\n",
    "\n",
    "# Print the city count to confirm sufficient count\n",
    "len(cities)"
   ]
  },
  {
   "cell_type": "code",
   "execution_count": null,
   "metadata": {
    "collapsed": true
   },
   "outputs": [],
   "source": [
    "city_list = []\n",
    "lat_list = []\n",
    "temp_list = []\n",
    "humidity_list = []\n",
    "clouds_list = []\n",
    "wind_list = []\n",
    "\n",
    "for x in range(len(cities)):\n",
    "    url = \"http://api.openweathermap.org/data/2.5/weather?APPID=f07cc674c63f6ede635d51d0602a328d&q=\"\n",
    "    print(f\"Making request number: {x} for ID: {cities[x]}\")\n",
    "\n",
    "    weather_response = requests.get(url + str(cities[x]))\n",
    "    weather_data = weather_response.json()\n",
    "    \n",
    "    if weather_response:\n",
    "        print('Success!')\n",
    "        city_list.append(weather_data[\"name\"])\n",
    "        lat_list.append(weather_data[\"coord\"][\"lat\"])\n",
    "        temp_list.append(weather_data[\"main\"][\"temp\"])\n",
    "        humidity_list.append(weather_data[\"main\"][\"humidity\"])\n",
    "        clouds_list.append(weather_data[\"clouds\"][\"all\"])\n",
    "        wind_list.append(weather_data[\"wind\"][\"speed\"])\n",
    "    else:\n",
    "        print('City not found.')"
   ]
  },
  {
   "cell_type": "code",
   "execution_count": null,
   "metadata": {
    "collapsed": true
   },
   "outputs": [],
   "source": [
    "weather_dict = {\"City\": city_list, \"Latitude\": lat_list, \"Temperature\": temp_list, \"Humidity\": humidity_list, \"Clouds\": clouds_list, \"Wind Speed\": wind_list}\n",
    "df = pd.DataFrame(weather_dict)\n",
    "df.head()\n",
    "\n",
    "export_csv = df.to_csv(\"weather.csv\", index = None, header = True)"
   ]
  },
  {
   "cell_type": "code",
   "execution_count": null,
   "metadata": {
    "collapsed": true
   },
   "outputs": [],
   "source": [
    "plt.scatter(weather_dict[\"Latitude\"], weather_dict[\"Temperature\"], marker = \"o\")\n",
    "plt.title(\"Latitude vs Temperature\")\n",
    "plt.ylabel(\"Temperature (C)\")\n",
    "plt.xlabel(\"Latitude\")\n",
    "plt.grid(True)\n",
    "plt.savefig(\"LatTemp.png\")\n",
    "plt.show()"
   ]
  },
  {
   "cell_type": "code",
   "execution_count": null,
   "metadata": {
    "collapsed": true
   },
   "outputs": [],
   "source": [
    "plt.scatter(weather_dict[\"Latitude\"], weather_dict[\"Humidity\"], marker = \"o\")\n",
    "plt.title(\"Latitude vs Humidity\")\n",
    "plt.ylabel(\"Humidity\")\n",
    "plt.xlabel(\"Latitude\")\n",
    "plt.grid(True)\n",
    "plt.savefig(\"LatHumid.png\")\n",
    "plt.show()"
   ]
  },
  {
   "cell_type": "code",
   "execution_count": null,
   "metadata": {
    "collapsed": true
   },
   "outputs": [],
   "source": [
    "plt.scatter(weather_dict[\"Latitude\"], weather_dict[\"Clouds\"], marker = \"o\")\n",
    "plt.title(\"Latitude vs Cloudiness\")\n",
    "plt.ylabel(\"Cloudiness\")\n",
    "plt.xlabel(\"Latitude\")\n",
    "plt.grid(True)\n",
    "plt.savefig(\"LatCloud.png\")\n",
    "plt.show()"
   ]
  },
  {
   "cell_type": "code",
   "execution_count": null,
   "metadata": {
    "collapsed": true
   },
   "outputs": [],
   "source": [
    "plt.scatter(weather_dict[\"Latitude\"], weather_dict[\"Wind Speed\"], marker = \"o\")\n",
    "plt.title(\"Latitude vs Wind Speed\")\n",
    "plt.ylabel(\"Wind Speed\")\n",
    "plt.xlabel(\"Latitude\")\n",
    "plt.grid(True)\n",
    "plt.savefig(\"LatWind.png\")\n",
    "plt.show()"
   ]
  },
  {
   "cell_type": "code",
   "execution_count": null,
   "metadata": {
    "collapsed": true
   },
   "outputs": [],
   "source": [
    "1: There is a clear pattern with regards to temperature and latitude where the highest temperatures are closest to the equator (0 latitude).\n",
    "2: Cloudiness is fairly evenly scattered across latitude with no easily discernable trends.\n",
    "3: Humidity tends to stay above 60 for most locations but is more likely to have lower values just above and below the equator."
   ]
  }
 ],
 "metadata": {
  "kernelspec": {
   "display_name": "Python 3",
   "language": "python",
   "name": "python3"
  },
  "language_info": {
   "codemirror_mode": {
    "name": "ipython",
    "version": 3
   },
   "file_extension": ".py",
   "mimetype": "text/x-python",
   "name": "python",
   "nbconvert_exporter": "python",
   "pygments_lexer": "ipython3",
   "version": "3.6.0"
  }
 },
 "nbformat": 4,
 "nbformat_minor": 2
}
